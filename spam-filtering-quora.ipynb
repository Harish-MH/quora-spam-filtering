{
 "cells": [
  {
   "cell_type": "code",
   "execution_count": 1,
   "id": "11ef11fe",
   "metadata": {
    "execution": {
     "iopub.execute_input": "2025-01-13T18:08:49.430534Z",
     "iopub.status.busy": "2025-01-13T18:08:49.430289Z",
     "iopub.status.idle": "2025-01-13T18:09:00.275928Z",
     "shell.execute_reply": "2025-01-13T18:09:00.275220Z"
    },
    "papermill": {
     "duration": 10.851515,
     "end_time": "2025-01-13T18:09:00.277572",
     "exception": false,
     "start_time": "2025-01-13T18:08:49.426057",
     "status": "completed"
    },
    "tags": []
   },
   "outputs": [],
   "source": [
    "# Import necessary libraries\n",
    "import numpy as np\n",
    "import pandas as pd\n",
    "import re\n",
    "import tensorflow as tf\n",
    "from sklearn.model_selection import train_test_split\n",
    "from sklearn.metrics import classification_report\n",
    "from tensorflow.keras.preprocessing.text import Tokenizer\n",
    "from tensorflow.keras.preprocessing.sequence import pad_sequences\n",
    "from tensorflow.keras.models import Sequential\n",
    "from tensorflow.keras.layers import Embedding, LSTM, Dense, Dropout"
   ]
  },
  {
   "cell_type": "code",
   "execution_count": 2,
   "id": "004a4777",
   "metadata": {
    "execution": {
     "iopub.execute_input": "2025-01-13T18:09:00.284572Z",
     "iopub.status.busy": "2025-01-13T18:09:00.284110Z",
     "iopub.status.idle": "2025-01-13T18:09:04.292303Z",
     "shell.execute_reply": "2025-01-13T18:09:04.291586Z"
    },
    "papermill": {
     "duration": 4.013042,
     "end_time": "2025-01-13T18:09:04.293825",
     "exception": false,
     "start_time": "2025-01-13T18:09:00.280783",
     "status": "completed"
    },
    "tags": []
   },
   "outputs": [],
   "source": [
    "# Load the data\n",
    "data_path = '/kaggle/input/spam-filter-for-quora-questions/train.csv'\n",
    "data = pd.read_csv(data_path)"
   ]
  },
  {
   "cell_type": "code",
   "execution_count": 3,
   "id": "1768cb3e",
   "metadata": {
    "execution": {
     "iopub.execute_input": "2025-01-13T18:09:04.300469Z",
     "iopub.status.busy": "2025-01-13T18:09:04.300220Z",
     "iopub.status.idle": "2025-01-13T18:09:04.449100Z",
     "shell.execute_reply": "2025-01-13T18:09:04.448248Z"
    },
    "papermill": {
     "duration": 0.153688,
     "end_time": "2025-01-13T18:09:04.450631",
     "exception": false,
     "start_time": "2025-01-13T18:09:04.296943",
     "status": "completed"
    },
    "tags": []
   },
   "outputs": [
    {
     "name": "stdout",
     "output_type": "stream",
     "text": [
      "Dataset Overview:\n",
      "                    qid                                      question_text  \\\n",
      "0  00002165364db923c7e6  How did Quebec nationalists see their province...   \n",
      "1  000032939017120e6e44  Do you have an adopted dog, how would you enco...   \n",
      "2  0000412ca6e4628ce2cf  Why does velocity affect time? Does velocity a...   \n",
      "3  000042bf85aa498cd78e  How did Otto von Guericke used the Magdeburg h...   \n",
      "4  0000455dfa3e01eae3af  Can I convert montra helicon D to a mountain b...   \n",
      "\n",
      "   target  \n",
      "0       0  \n",
      "1       0  \n",
      "2       0  \n",
      "3       0  \n",
      "4       0  \n",
      "\n",
      "Dataset Info:\n",
      "<class 'pandas.core.frame.DataFrame'>\n",
      "RangeIndex: 1306122 entries, 0 to 1306121\n",
      "Data columns (total 3 columns):\n",
      " #   Column         Non-Null Count    Dtype \n",
      "---  ------         --------------    ----- \n",
      " 0   qid            1306122 non-null  object\n",
      " 1   question_text  1306122 non-null  object\n",
      " 2   target         1306122 non-null  int64 \n",
      "dtypes: int64(1), object(2)\n",
      "memory usage: 29.9+ MB\n"
     ]
    }
   ],
   "source": [
    "# Inspect the dataset\n",
    "print(\"Dataset Overview:\")\n",
    "print(data.head())\n",
    "print(\"\\nDataset Info:\")\n",
    "data.info()"
   ]
  },
  {
   "cell_type": "code",
   "execution_count": 4,
   "id": "b234e469",
   "metadata": {
    "execution": {
     "iopub.execute_input": "2025-01-13T18:09:04.457141Z",
     "iopub.status.busy": "2025-01-13T18:09:04.456876Z",
     "iopub.status.idle": "2025-01-13T18:09:06.685844Z",
     "shell.execute_reply": "2025-01-13T18:09:06.684891Z"
    },
    "papermill": {
     "duration": 2.234017,
     "end_time": "2025-01-13T18:09:06.687627",
     "exception": false,
     "start_time": "2025-01-13T18:09:04.453610",
     "status": "completed"
    },
    "tags": []
   },
   "outputs": [],
   "source": [
    "# Preprocess the data\n",
    "def clean_text(text):\n",
    "    text = re.sub(r'[^a-zA-Z0-9 ]', '', text)  # Remove special characters\n",
    "    text = text.lower()  # Convert to lowercase\n",
    "    return text\n",
    "\n",
    "data['question_text'] = data['question_text'].apply(clean_text)"
   ]
  },
  {
   "cell_type": "code",
   "execution_count": 5,
   "id": "05ae9cdd",
   "metadata": {
    "execution": {
     "iopub.execute_input": "2025-01-13T18:09:06.694446Z",
     "iopub.status.busy": "2025-01-13T18:09:06.694212Z",
     "iopub.status.idle": "2025-01-13T18:09:06.697521Z",
     "shell.execute_reply": "2025-01-13T18:09:06.696887Z"
    },
    "papermill": {
     "duration": 0.007896,
     "end_time": "2025-01-13T18:09:06.698686",
     "exception": false,
     "start_time": "2025-01-13T18:09:06.690790",
     "status": "completed"
    },
    "tags": []
   },
   "outputs": [],
   "source": [
    "# Extract features and labels\n",
    "X = data['question_text']\n",
    "y = data['target']  # Assuming 'target' column contains the labels"
   ]
  },
  {
   "cell_type": "code",
   "execution_count": 6,
   "id": "9011a78a",
   "metadata": {
    "execution": {
     "iopub.execute_input": "2025-01-13T18:09:06.704885Z",
     "iopub.status.busy": "2025-01-13T18:09:06.704679Z",
     "iopub.status.idle": "2025-01-13T18:09:06.998841Z",
     "shell.execute_reply": "2025-01-13T18:09:06.998211Z"
    },
    "papermill": {
     "duration": 0.298974,
     "end_time": "2025-01-13T18:09:07.000466",
     "exception": false,
     "start_time": "2025-01-13T18:09:06.701492",
     "status": "completed"
    },
    "tags": []
   },
   "outputs": [],
   "source": [
    "# Train-validation split\n",
    "X_train, X_val, y_train, y_val = train_test_split(X, y, test_size=0.2, random_state=42)"
   ]
  },
  {
   "cell_type": "code",
   "execution_count": 7,
   "id": "70329b42",
   "metadata": {
    "execution": {
     "iopub.execute_input": "2025-01-13T18:09:07.007327Z",
     "iopub.status.busy": "2025-01-13T18:09:07.007088Z",
     "iopub.status.idle": "2025-01-13T18:09:41.623770Z",
     "shell.execute_reply": "2025-01-13T18:09:41.623031Z"
    },
    "papermill": {
     "duration": 34.621801,
     "end_time": "2025-01-13T18:09:41.625403",
     "exception": false,
     "start_time": "2025-01-13T18:09:07.003602",
     "status": "completed"
    },
    "tags": []
   },
   "outputs": [],
   "source": [
    "# Tokenize and pad sequences\n",
    "max_words = 20000  # Vocabulary size\n",
    "max_len = 100  # Maximum length of sequences\n",
    "\n",
    "tokenizer = Tokenizer(num_words=max_words)\n",
    "tokenizer.fit_on_texts(X_train)\n",
    "\n",
    "X_train_seq = tokenizer.texts_to_sequences(X_train)\n",
    "X_val_seq = tokenizer.texts_to_sequences(X_val)\n",
    "\n",
    "X_train_pad = pad_sequences(X_train_seq, maxlen=max_len)\n",
    "X_val_pad = pad_sequences(X_val_seq, maxlen=max_len)"
   ]
  },
  {
   "cell_type": "code",
   "execution_count": 8,
   "id": "c84ab6be",
   "metadata": {
    "execution": {
     "iopub.execute_input": "2025-01-13T18:09:41.632248Z",
     "iopub.status.busy": "2025-01-13T18:09:41.631923Z",
     "iopub.status.idle": "2025-01-13T18:09:41.635019Z",
     "shell.execute_reply": "2025-01-13T18:09:41.634298Z"
    },
    "papermill": {
     "duration": 0.007663,
     "end_time": "2025-01-13T18:09:41.636285",
     "exception": false,
     "start_time": "2025-01-13T18:09:41.628622",
     "status": "completed"
    },
    "tags": []
   },
   "outputs": [],
   "source": [
    "# !wget http://nlp.stanford.edu/data/glove.42B.300d.zip"
   ]
  },
  {
   "cell_type": "code",
   "execution_count": 9,
   "id": "9d5b1df4",
   "metadata": {
    "execution": {
     "iopub.execute_input": "2025-01-13T18:09:41.642633Z",
     "iopub.status.busy": "2025-01-13T18:09:41.642395Z",
     "iopub.status.idle": "2025-01-13T18:09:41.645301Z",
     "shell.execute_reply": "2025-01-13T18:09:41.644528Z"
    },
    "papermill": {
     "duration": 0.007409,
     "end_time": "2025-01-13T18:09:41.646590",
     "exception": false,
     "start_time": "2025-01-13T18:09:41.639181",
     "status": "completed"
    },
    "tags": []
   },
   "outputs": [],
   "source": [
    "# !unzip /kaggle/working/glove.42B.300d.zip\n",
    "# !rm /kaggle/working/glove.42B.300d.zip"
   ]
  },
  {
   "cell_type": "code",
   "execution_count": 10,
   "id": "6e0f049f",
   "metadata": {
    "execution": {
     "iopub.execute_input": "2025-01-13T18:09:41.652746Z",
     "iopub.status.busy": "2025-01-13T18:09:41.652519Z",
     "iopub.status.idle": "2025-01-13T18:11:39.690448Z",
     "shell.execute_reply": "2025-01-13T18:11:39.689491Z"
    },
    "papermill": {
     "duration": 118.044582,
     "end_time": "2025-01-13T18:11:39.693951",
     "exception": false,
     "start_time": "2025-01-13T18:09:41.649369",
     "status": "completed"
    },
    "tags": []
   },
   "outputs": [
    {
     "name": "stdout",
     "output_type": "stream",
     "text": [
      "Loaded 1917494 word vectors from GloVe.\n"
     ]
    }
   ],
   "source": [
    "# Load GloVe embeddings\n",
    "glove_path = '/kaggle/input/glove-42b-300de/glove.42B.300d.txt'  # Replace with your GloVe file path\n",
    "embedding_dim = 100\n",
    "\n",
    "embeddings_index = {}\n",
    "with open(glove_path, 'r', encoding='utf-8') as f:\n",
    "    for line in f:\n",
    "        values = line.split()\n",
    "        word = values[0]\n",
    "        coefs = np.asarray(values[1:], dtype='float32')\n",
    "        embeddings_index[word] = coefs\n",
    "\n",
    "print(f\"Loaded {len(embeddings_index)} word vectors from GloVe.\")"
   ]
  },
  {
   "cell_type": "code",
   "execution_count": 11,
   "id": "6e15c453",
   "metadata": {
    "execution": {
     "iopub.execute_input": "2025-01-13T18:11:39.700602Z",
     "iopub.status.busy": "2025-01-13T18:11:39.700348Z",
     "iopub.status.idle": "2025-01-13T18:11:39.801051Z",
     "shell.execute_reply": "2025-01-13T18:11:39.800304Z"
    },
    "papermill": {
     "duration": 0.105876,
     "end_time": "2025-01-13T18:11:39.802706",
     "exception": false,
     "start_time": "2025-01-13T18:11:39.696830",
     "status": "completed"
    },
    "tags": []
   },
   "outputs": [],
   "source": [
    "# Create embedding matrix\n",
    "word_index = tokenizer.word_index\n",
    "# Update the embedding dimension to match the GloVe file (e.g., 300)\n",
    "embedding_dim = 300\n",
    "\n",
    "# Create embedding matrix\n",
    "embedding_matrix = np.zeros((max_words, embedding_dim))\n",
    "for word, i in word_index.items():\n",
    "    if i < max_words:\n",
    "        embedding_vector = embeddings_index.get(word)\n",
    "        if embedding_vector is not None:\n",
    "            embedding_matrix[i] = embedding_vector\n"
   ]
  },
  {
   "cell_type": "code",
   "execution_count": 12,
   "id": "d6dab91c",
   "metadata": {
    "execution": {
     "iopub.execute_input": "2025-01-13T18:11:39.809604Z",
     "iopub.status.busy": "2025-01-13T18:11:39.809332Z",
     "iopub.status.idle": "2025-01-13T18:11:40.920868Z",
     "shell.execute_reply": "2025-01-13T18:11:40.920073Z"
    },
    "papermill": {
     "duration": 1.116086,
     "end_time": "2025-01-13T18:11:40.922095",
     "exception": false,
     "start_time": "2025-01-13T18:11:39.806009",
     "status": "completed"
    },
    "tags": []
   },
   "outputs": [
    {
     "name": "stderr",
     "output_type": "stream",
     "text": [
      "/usr/local/lib/python3.10/dist-packages/keras/src/layers/core/embedding.py:90: UserWarning: Argument `input_length` is deprecated. Just remove it.\n",
      "  warnings.warn(\n"
     ]
    },
    {
     "data": {
      "text/html": [
       "<pre style=\"white-space:pre;overflow-x:auto;line-height:normal;font-family:Menlo,'DejaVu Sans Mono',consolas,'Courier New',monospace\"><span style=\"font-weight: bold\">Model: \"sequential\"</span>\n",
       "</pre>\n"
      ],
      "text/plain": [
       "\u001b[1mModel: \"sequential\"\u001b[0m\n"
      ]
     },
     "metadata": {},
     "output_type": "display_data"
    },
    {
     "data": {
      "text/html": [
       "<pre style=\"white-space:pre;overflow-x:auto;line-height:normal;font-family:Menlo,'DejaVu Sans Mono',consolas,'Courier New',monospace\">┏━━━━━━━━━━━━━━━━━━━━━━━━━━━━━━━━━━━━━━┳━━━━━━━━━━━━━━━━━━━━━━━━━━━━━┳━━━━━━━━━━━━━━━━━┓\n",
       "┃<span style=\"font-weight: bold\"> Layer (type)                         </span>┃<span style=\"font-weight: bold\"> Output Shape                </span>┃<span style=\"font-weight: bold\">         Param # </span>┃\n",
       "┡━━━━━━━━━━━━━━━━━━━━━━━━━━━━━━━━━━━━━━╇━━━━━━━━━━━━━━━━━━━━━━━━━━━━━╇━━━━━━━━━━━━━━━━━┩\n",
       "│ embedding (<span style=\"color: #0087ff; text-decoration-color: #0087ff\">Embedding</span>)                │ ?                           │       <span style=\"color: #00af00; text-decoration-color: #00af00\">6,000,000</span> │\n",
       "├──────────────────────────────────────┼─────────────────────────────┼─────────────────┤\n",
       "│ lstm (<span style=\"color: #0087ff; text-decoration-color: #0087ff\">LSTM</span>)                          │ ?                           │     <span style=\"color: #00af00; text-decoration-color: #00af00\">0</span> (unbuilt) │\n",
       "├──────────────────────────────────────┼─────────────────────────────┼─────────────────┤\n",
       "│ dense (<span style=\"color: #0087ff; text-decoration-color: #0087ff\">Dense</span>)                        │ ?                           │     <span style=\"color: #00af00; text-decoration-color: #00af00\">0</span> (unbuilt) │\n",
       "├──────────────────────────────────────┼─────────────────────────────┼─────────────────┤\n",
       "│ dropout (<span style=\"color: #0087ff; text-decoration-color: #0087ff\">Dropout</span>)                    │ ?                           │     <span style=\"color: #00af00; text-decoration-color: #00af00\">0</span> (unbuilt) │\n",
       "├──────────────────────────────────────┼─────────────────────────────┼─────────────────┤\n",
       "│ dense_1 (<span style=\"color: #0087ff; text-decoration-color: #0087ff\">Dense</span>)                      │ ?                           │     <span style=\"color: #00af00; text-decoration-color: #00af00\">0</span> (unbuilt) │\n",
       "└──────────────────────────────────────┴─────────────────────────────┴─────────────────┘\n",
       "</pre>\n"
      ],
      "text/plain": [
       "┏━━━━━━━━━━━━━━━━━━━━━━━━━━━━━━━━━━━━━━┳━━━━━━━━━━━━━━━━━━━━━━━━━━━━━┳━━━━━━━━━━━━━━━━━┓\n",
       "┃\u001b[1m \u001b[0m\u001b[1mLayer (type)                        \u001b[0m\u001b[1m \u001b[0m┃\u001b[1m \u001b[0m\u001b[1mOutput Shape               \u001b[0m\u001b[1m \u001b[0m┃\u001b[1m \u001b[0m\u001b[1m        Param #\u001b[0m\u001b[1m \u001b[0m┃\n",
       "┡━━━━━━━━━━━━━━━━━━━━━━━━━━━━━━━━━━━━━━╇━━━━━━━━━━━━━━━━━━━━━━━━━━━━━╇━━━━━━━━━━━━━━━━━┩\n",
       "│ embedding (\u001b[38;5;33mEmbedding\u001b[0m)                │ ?                           │       \u001b[38;5;34m6,000,000\u001b[0m │\n",
       "├──────────────────────────────────────┼─────────────────────────────┼─────────────────┤\n",
       "│ lstm (\u001b[38;5;33mLSTM\u001b[0m)                          │ ?                           │     \u001b[38;5;34m0\u001b[0m (unbuilt) │\n",
       "├──────────────────────────────────────┼─────────────────────────────┼─────────────────┤\n",
       "│ dense (\u001b[38;5;33mDense\u001b[0m)                        │ ?                           │     \u001b[38;5;34m0\u001b[0m (unbuilt) │\n",
       "├──────────────────────────────────────┼─────────────────────────────┼─────────────────┤\n",
       "│ dropout (\u001b[38;5;33mDropout\u001b[0m)                    │ ?                           │     \u001b[38;5;34m0\u001b[0m (unbuilt) │\n",
       "├──────────────────────────────────────┼─────────────────────────────┼─────────────────┤\n",
       "│ dense_1 (\u001b[38;5;33mDense\u001b[0m)                      │ ?                           │     \u001b[38;5;34m0\u001b[0m (unbuilt) │\n",
       "└──────────────────────────────────────┴─────────────────────────────┴─────────────────┘\n"
      ]
     },
     "metadata": {},
     "output_type": "display_data"
    },
    {
     "data": {
      "text/html": [
       "<pre style=\"white-space:pre;overflow-x:auto;line-height:normal;font-family:Menlo,'DejaVu Sans Mono',consolas,'Courier New',monospace\"><span style=\"font-weight: bold\"> Total params: </span><span style=\"color: #00af00; text-decoration-color: #00af00\">6,000,000</span> (22.89 MB)\n",
       "</pre>\n"
      ],
      "text/plain": [
       "\u001b[1m Total params: \u001b[0m\u001b[38;5;34m6,000,000\u001b[0m (22.89 MB)\n"
      ]
     },
     "metadata": {},
     "output_type": "display_data"
    },
    {
     "data": {
      "text/html": [
       "<pre style=\"white-space:pre;overflow-x:auto;line-height:normal;font-family:Menlo,'DejaVu Sans Mono',consolas,'Courier New',monospace\"><span style=\"font-weight: bold\"> Trainable params: </span><span style=\"color: #00af00; text-decoration-color: #00af00\">0</span> (0.00 B)\n",
       "</pre>\n"
      ],
      "text/plain": [
       "\u001b[1m Trainable params: \u001b[0m\u001b[38;5;34m0\u001b[0m (0.00 B)\n"
      ]
     },
     "metadata": {},
     "output_type": "display_data"
    },
    {
     "data": {
      "text/html": [
       "<pre style=\"white-space:pre;overflow-x:auto;line-height:normal;font-family:Menlo,'DejaVu Sans Mono',consolas,'Courier New',monospace\"><span style=\"font-weight: bold\"> Non-trainable params: </span><span style=\"color: #00af00; text-decoration-color: #00af00\">6,000,000</span> (22.89 MB)\n",
       "</pre>\n"
      ],
      "text/plain": [
       "\u001b[1m Non-trainable params: \u001b[0m\u001b[38;5;34m6,000,000\u001b[0m (22.89 MB)\n"
      ]
     },
     "metadata": {},
     "output_type": "display_data"
    },
    {
     "name": "stdout",
     "output_type": "stream",
     "text": [
      "None\n"
     ]
    }
   ],
   "source": [
    "# Build the model\n",
    "model = Sequential([\n",
    "    Embedding(input_dim=max_words, \n",
    "              output_dim=embedding_dim, \n",
    "              weights=[embedding_matrix], \n",
    "              input_length=max_len, \n",
    "              trainable=False),\n",
    "    LSTM(128, dropout=0.2, recurrent_dropout=0.2),\n",
    "    Dense(64, activation='relu'),\n",
    "    Dropout(0.5),\n",
    "    Dense(1, activation='sigmoid')\n",
    "])\n",
    "\n",
    "model.compile(optimizer='adam', loss='binary_crossentropy', metrics=['accuracy'])\n",
    "\n",
    "print(model.summary())"
   ]
  },
  {
   "cell_type": "code",
   "execution_count": 13,
   "id": "925710da",
   "metadata": {
    "execution": {
     "iopub.execute_input": "2025-01-13T18:11:40.930305Z",
     "iopub.status.busy": "2025-01-13T18:11:40.930079Z",
     "iopub.status.idle": "2025-01-13T23:48:46.120235Z",
     "shell.execute_reply": "2025-01-13T23:48:46.119357Z"
    },
    "papermill": {
     "duration": 20233.371073,
     "end_time": "2025-01-13T23:48:54.296876",
     "exception": false,
     "start_time": "2025-01-13T18:11:40.925803",
     "status": "completed"
    },
    "tags": []
   },
   "outputs": [
    {
     "name": "stdout",
     "output_type": "stream",
     "text": [
      "Epoch 1/5\n",
      "\u001b[1m32654/32654\u001b[0m \u001b[32m━━━━━━━━━━━━━━━━━━━━\u001b[0m\u001b[37m\u001b[0m \u001b[1m3973s\u001b[0m 121ms/step - accuracy: 0.9496 - loss: 0.1323 - val_accuracy: 0.9584 - val_loss: 0.1061\n",
      "Epoch 2/5\n",
      "\u001b[1m32654/32654\u001b[0m \u001b[32m━━━━━━━━━━━━━━━━━━━━\u001b[0m\u001b[37m\u001b[0m \u001b[1m4038s\u001b[0m 124ms/step - accuracy: 0.9562 - loss: 0.1109 - val_accuracy: 0.9592 - val_loss: 0.1041\n",
      "Epoch 3/5\n",
      "\u001b[1m32654/32654\u001b[0m \u001b[32m━━━━━━━━━━━━━━━━━━━━\u001b[0m\u001b[37m\u001b[0m \u001b[1m4067s\u001b[0m 125ms/step - accuracy: 0.9580 - loss: 0.1058 - val_accuracy: 0.9596 - val_loss: 0.1033\n",
      "Epoch 4/5\n",
      "\u001b[1m32654/32654\u001b[0m \u001b[32m━━━━━━━━━━━━━━━━━━━━\u001b[0m\u001b[37m\u001b[0m \u001b[1m4058s\u001b[0m 124ms/step - accuracy: 0.9584 - loss: 0.1046 - val_accuracy: 0.9590 - val_loss: 0.1037\n",
      "Epoch 5/5\n",
      "\u001b[1m32654/32654\u001b[0m \u001b[32m━━━━━━━━━━━━━━━━━━━━\u001b[0m\u001b[37m\u001b[0m \u001b[1m4089s\u001b[0m 125ms/step - accuracy: 0.9594 - loss: 0.1021 - val_accuracy: 0.9595 - val_loss: 0.1055\n"
     ]
    }
   ],
   "source": [
    "# Train the model\n",
    "batch_size = 32\n",
    "epochs = 5\n",
    "\n",
    "history = model.fit(\n",
    "    X_train_pad, y_train,\n",
    "    validation_data=(X_val_pad, y_val),\n",
    "    batch_size=batch_size,\n",
    "    epochs=epochs,\n",
    "    verbose=1\n",
    ")"
   ]
  },
  {
   "cell_type": "code",
   "execution_count": 14,
   "id": "51f7640b",
   "metadata": {
    "_cell_guid": "b1076dfc-b9ad-4769-8c92-a6c4dae69d19",
    "_uuid": "8f2839f25d086af736a60e9eeb907d3b93b6e0e5",
    "execution": {
     "iopub.execute_input": "2025-01-13T23:49:11.011693Z",
     "iopub.status.busy": "2025-01-13T23:49:11.011373Z",
     "iopub.status.idle": "2025-01-13T23:54:46.473682Z",
     "shell.execute_reply": "2025-01-13T23:54:46.472651Z"
    },
    "papermill": {
     "duration": 344.007607,
     "end_time": "2025-01-13T23:54:46.475268",
     "exception": false,
     "start_time": "2025-01-13T23:49:02.467661",
     "status": "completed"
    },
    "tags": []
   },
   "outputs": [
    {
     "name": "stdout",
     "output_type": "stream",
     "text": [
      "\u001b[1m8164/8164\u001b[0m \u001b[32m━━━━━━━━━━━━━━━━━━━━\u001b[0m\u001b[37m\u001b[0m \u001b[1m330s\u001b[0m 40ms/step\n",
      "Classification Report:\n",
      "              precision    recall  f1-score   support\n",
      "\n",
      "           0       0.97      0.98      0.98    245369\n",
      "           1       0.71      0.57      0.63     15856\n",
      "\n",
      "    accuracy                           0.96    261225\n",
      "   macro avg       0.84      0.78      0.80    261225\n",
      "weighted avg       0.96      0.96      0.96    261225\n",
      "\n"
     ]
    }
   ],
   "source": [
    "# Evaluate the model\n",
    "val_pred = (model.predict(X_val_pad) > 0.5).astype(int)\n",
    "print(\"Classification Report:\")\n",
    "print(classification_report(y_val, val_pred))"
   ]
  }
 ],
 "metadata": {
  "kaggle": {
   "accelerator": "nvidiaTeslaT4",
   "dataSources": [
    {
     "datasetId": 6303779,
     "sourceId": 10201099,
     "sourceType": "datasetVersion"
    },
    {
     "datasetId": 6306499,
     "sourceId": 10205079,
     "sourceType": "datasetVersion"
    }
   ],
   "isGpuEnabled": true,
   "isInternetEnabled": true,
   "language": "python",
   "sourceType": "notebook"
  },
  "kernelspec": {
   "display_name": "Python 3",
   "language": "python",
   "name": "python3"
  },
  "language_info": {
   "codemirror_mode": {
    "name": "ipython",
    "version": 3
   },
   "file_extension": ".py",
   "mimetype": "text/x-python",
   "name": "python",
   "nbconvert_exporter": "python",
   "pygments_lexer": "ipython3",
   "version": "3.10.12"
  },
  "papermill": {
   "default_parameters": {},
   "duration": 20771.893369,
   "end_time": "2025-01-13T23:54:58.881327",
   "environment_variables": {},
   "exception": null,
   "input_path": "__notebook__.ipynb",
   "output_path": "__notebook__.ipynb",
   "parameters": {},
   "start_time": "2025-01-13T18:08:46.987958",
   "version": "2.6.0"
  }
 },
 "nbformat": 4,
 "nbformat_minor": 5
}
